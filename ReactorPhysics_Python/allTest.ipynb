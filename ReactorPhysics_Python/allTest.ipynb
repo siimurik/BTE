{
 "cells": [
  {
   "cell_type": "code",
   "execution_count": 1,
   "metadata": {},
   "outputs": [],
   "source": [
    "import os\n",
    "import numpy as np\n",
    "import pandas as pd"
   ]
  },
  {
   "cell_type": "code",
   "execution_count": 2,
   "metadata": {},
   "outputs": [
    {
     "data": {
      "text/plain": [
       "6"
      ]
     },
     "execution_count": 2,
     "metadata": {},
     "output_type": "execute_result"
    }
   ],
   "source": [
    "m = np.array([[1, 2, 3, 4, 5, 6], [7, 8, 9, 10, 11, 12], [13, 14, 15, 16, 17, 18]])\n",
    "len(m[0])"
   ]
  },
  {
   "cell_type": "code",
   "execution_count": 3,
   "metadata": {},
   "outputs": [
    {
     "name": "stdout",
     "output_type": "stream",
     "text": [
      "[1. 2. 3. 4. 5. 6. 7. 8.]\n",
      "2\n"
     ]
    }
   ],
   "source": [
    "def extractNwords(n, iRow, m):\n",
    "    k = 1\n",
    "    iRowNew = iRow\n",
    "    a = np.empty(n, dtype=float)\n",
    "    for ii in range(int(n/6)):  # read lines with 6 words each\n",
    "        for jj in range(6):\n",
    "            a[k-1] = m[iRowNew-1][jj]\n",
    "            k += 1\n",
    "        iRowNew += 1\n",
    "    \n",
    "    if (n - int(n/6)*6) == 0:\n",
    "        iRowNew -= 1\n",
    "    \n",
    "    for jj in range((n-int(n/6)*6)):  # read the last line with less than 6 words\n",
    "        a[k-1] = m[iRowNew-1][jj]\n",
    "        k += 1\n",
    "    \n",
    "    return a, iRowNew\n",
    "\n",
    "m = np.array([[1, 2, 3, 4, 5, 6], [7, 8, 9, 10, 11, 12], [13, 14, 15, 16, 17, 18]])\n",
    "n = 8\n",
    "i_row = 1\n",
    "\n",
    "a_Python, i_row_new_Python = extractNwords(n, i_row, m)\n",
    "print(a_Python)\n",
    "print(i_row_new_Python)\n"
   ]
  },
  {
   "cell_type": "code",
   "execution_count": 5,
   "metadata": {},
   "outputs": [
    {
     "ename": "ValueError",
     "evalue": "could not convert string to float: '5.010000+3'",
     "output_type": "error",
     "traceback": [
      "\u001b[0;31m---------------------------------------------------------------------------\u001b[0m",
      "\u001b[0;31mValueError\u001b[0m                                Traceback (most recent call last)",
      "\u001b[1;32m/home/siimep_x11/Documents/BTE/ReactorPhysics_Python/allTest.ipynb Cell 4\u001b[0m in \u001b[0;36m9\n\u001b[1;32m      <a href='vscode-notebook-cell:/home/siimep_x11/Documents/BTE/ReactorPhysics_Python/allTest.ipynb#X11sZmlsZQ%3D%3D?line=6'>7</a>\u001b[0m     \u001b[39mcontinue\u001b[39;00m\n\u001b[1;32m      <a href='vscode-notebook-cell:/home/siimep_x11/Documents/BTE/ReactorPhysics_Python/allTest.ipynb#X11sZmlsZQ%3D%3D?line=7'>8</a>\u001b[0m \u001b[39m# Add semicolons and exponential notation\u001b[39;00m\n\u001b[0;32m----> <a href='vscode-notebook-cell:/home/siimep_x11/Documents/BTE/ReactorPhysics_Python/allTest.ipynb#X11sZmlsZQ%3D%3D?line=8'>9</a>\u001b[0m row \u001b[39m=\u001b[39m [\u001b[39mf\u001b[39m\u001b[39m\"\u001b[39m\u001b[39m{\u001b[39;00m\u001b[39mfloat\u001b[39m(x)\u001b[39m:\u001b[39;00m\u001b[39mE\u001b[39m\u001b[39m}\u001b[39;00m\u001b[39m\"\u001b[39m \u001b[39mif\u001b[39;00m \u001b[39m'\u001b[39m\u001b[39m.\u001b[39m\u001b[39m'\u001b[39m \u001b[39min\u001b[39;00m x \u001b[39melse\u001b[39;00m x \u001b[39mfor\u001b[39;00m x \u001b[39min\u001b[39;00m row]\n\u001b[1;32m     <a href='vscode-notebook-cell:/home/siimep_x11/Documents/BTE/ReactorPhysics_Python/allTest.ipynb#X11sZmlsZQ%3D%3D?line=9'>10</a>\u001b[0m \u001b[39m# Write the row to the output file\u001b[39;00m\n\u001b[1;32m     <a href='vscode-notebook-cell:/home/siimep_x11/Documents/BTE/ReactorPhysics_Python/allTest.ipynb#X11sZmlsZQ%3D%3D?line=10'>11</a>\u001b[0m f_out\u001b[39m.\u001b[39mwrite(\u001b[39m'\u001b[39m\u001b[39m;\u001b[39m\u001b[39m'\u001b[39m\u001b[39m.\u001b[39mjoin(row) \u001b[39m+\u001b[39m \u001b[39m'\u001b[39m\u001b[39m\\n\u001b[39;00m\u001b[39m'\u001b[39m)\n",
      "\u001b[1;32m/home/siimep_x11/Documents/BTE/ReactorPhysics_Python/allTest.ipynb Cell 4\u001b[0m in \u001b[0;36m9\n\u001b[1;32m      <a href='vscode-notebook-cell:/home/siimep_x11/Documents/BTE/ReactorPhysics_Python/allTest.ipynb#X11sZmlsZQ%3D%3D?line=6'>7</a>\u001b[0m     \u001b[39mcontinue\u001b[39;00m\n\u001b[1;32m      <a href='vscode-notebook-cell:/home/siimep_x11/Documents/BTE/ReactorPhysics_Python/allTest.ipynb#X11sZmlsZQ%3D%3D?line=7'>8</a>\u001b[0m \u001b[39m# Add semicolons and exponential notation\u001b[39;00m\n\u001b[0;32m----> <a href='vscode-notebook-cell:/home/siimep_x11/Documents/BTE/ReactorPhysics_Python/allTest.ipynb#X11sZmlsZQ%3D%3D?line=8'>9</a>\u001b[0m row \u001b[39m=\u001b[39m [\u001b[39mf\u001b[39m\u001b[39m\"\u001b[39m\u001b[39m{\u001b[39;00m\u001b[39mfloat\u001b[39m(x)\u001b[39m:\u001b[39;00m\u001b[39mE\u001b[39m\u001b[39m}\u001b[39;00m\u001b[39m\"\u001b[39m \u001b[39mif\u001b[39;00m \u001b[39m'\u001b[39m\u001b[39m.\u001b[39m\u001b[39m'\u001b[39m \u001b[39min\u001b[39;00m x \u001b[39melse\u001b[39;00m x \u001b[39mfor\u001b[39;00m x \u001b[39min\u001b[39;00m row]\n\u001b[1;32m     <a href='vscode-notebook-cell:/home/siimep_x11/Documents/BTE/ReactorPhysics_Python/allTest.ipynb#X11sZmlsZQ%3D%3D?line=9'>10</a>\u001b[0m \u001b[39m# Write the row to the output file\u001b[39;00m\n\u001b[1;32m     <a href='vscode-notebook-cell:/home/siimep_x11/Documents/BTE/ReactorPhysics_Python/allTest.ipynb#X11sZmlsZQ%3D%3D?line=10'>11</a>\u001b[0m f_out\u001b[39m.\u001b[39mwrite(\u001b[39m'\u001b[39m\u001b[39m;\u001b[39m\u001b[39m'\u001b[39m\u001b[39m.\u001b[39mjoin(row) \u001b[39m+\u001b[39m \u001b[39m'\u001b[39m\u001b[39m\\n\u001b[39;00m\u001b[39m'\u001b[39m)\n",
      "\u001b[0;31mValueError\u001b[0m: could not convert string to float: '5.010000+3'"
     ]
    }
   ],
   "source": [
    "with open('B_010.GXS', 'r') as f_in:\n",
    "    with open('output.csv', 'w') as f_out:\n",
    "        for line in f_in:\n",
    "            row = line.split()\n",
    "            # If the row starts with a whitespace, skip it\n",
    "            if len(row) == 0:\n",
    "                continue\n",
    "            # Add semicolons and exponential notation\n",
    "            row = [f\"{float(x):E}\" if '.' in x else x for x in row]\n",
    "            # Write the row to the output file\n",
    "            f_out.write(';'.join(row) + '\\n')\n"
   ]
  },
  {
   "cell_type": "code",
   "execution_count": 4,
   "metadata": {},
   "outputs": [
    {
     "ename": "FileNotFoundError",
     "evalue": "[Errno 2] No such file or directory: 'B_010.CSV'",
     "output_type": "error",
     "traceback": [
      "\u001b[0;31m---------------------------------------------------------------------------\u001b[0m",
      "\u001b[0;31mFileNotFoundError\u001b[0m                         Traceback (most recent call last)",
      "\u001b[1;32m/home/siimep_x11/Documents/BTE/ReactorPhysics_Python/allTest.ipynb Cell 4\u001b[0m in \u001b[0;36m2\n\u001b[1;32m      <a href='vscode-notebook-cell:/home/siimep_x11/Documents/BTE/ReactorPhysics_Python/allTest.ipynb#W3sZmlsZQ%3D%3D?line=0'>1</a>\u001b[0m \u001b[39m# Read the CSV data file into a Pandas DataFrame object\u001b[39;00m\n\u001b[0;32m----> <a href='vscode-notebook-cell:/home/siimep_x11/Documents/BTE/ReactorPhysics_Python/allTest.ipynb#W3sZmlsZQ%3D%3D?line=1'>2</a>\u001b[0m data \u001b[39m=\u001b[39m pd\u001b[39m.\u001b[39mread_csv(\u001b[39m'\u001b[39m\u001b[39mB_010.CSV\u001b[39m\u001b[39m'\u001b[39m, delimiter\u001b[39m=\u001b[39m\u001b[39m'\u001b[39m\u001b[39m;\u001b[39m\u001b[39m'\u001b[39m, header\u001b[39m=\u001b[39m\u001b[39mNone\u001b[39;00m)\n\u001b[1;32m      <a href='vscode-notebook-cell:/home/siimep_x11/Documents/BTE/ReactorPhysics_Python/allTest.ipynb#W3sZmlsZQ%3D%3D?line=2'>3</a>\u001b[0m df \u001b[39m=\u001b[39m data\u001b[39m.\u001b[39mreplace(\u001b[39mr\u001b[39m\u001b[39m'\u001b[39m\u001b[39m^\u001b[39m\u001b[39m\\\u001b[39m\u001b[39ms*$\u001b[39m\u001b[39m'\u001b[39m, np\u001b[39m.\u001b[39mnan, regex\u001b[39m=\u001b[39m\u001b[39mTrue\u001b[39;00m)\u001b[39m.\u001b[39mastype(\u001b[39mfloat\u001b[39m) \u001b[39m# df contains empty cells, \u001b[39;00m\n\u001b[1;32m      <a href='vscode-notebook-cell:/home/siimep_x11/Documents/BTE/ReactorPhysics_Python/allTest.ipynb#W3sZmlsZQ%3D%3D?line=4'>5</a>\u001b[0m \u001b[39m# Print the updated DataFrame\u001b[39;00m\n",
      "File \u001b[0;32m/usr/lib64/python3.11/site-packages/pandas/util/_decorators.py:211\u001b[0m, in \u001b[0;36mdeprecate_kwarg.<locals>._deprecate_kwarg.<locals>.wrapper\u001b[0;34m(*args, **kwargs)\u001b[0m\n\u001b[1;32m    209\u001b[0m     \u001b[39melse\u001b[39;00m:\n\u001b[1;32m    210\u001b[0m         kwargs[new_arg_name] \u001b[39m=\u001b[39m new_arg_value\n\u001b[0;32m--> 211\u001b[0m \u001b[39mreturn\u001b[39;00m func(\u001b[39m*\u001b[39;49margs, \u001b[39m*\u001b[39;49m\u001b[39m*\u001b[39;49mkwargs)\n",
      "File \u001b[0;32m/usr/lib64/python3.11/site-packages/pandas/util/_decorators.py:331\u001b[0m, in \u001b[0;36mdeprecate_nonkeyword_arguments.<locals>.decorate.<locals>.wrapper\u001b[0;34m(*args, **kwargs)\u001b[0m\n\u001b[1;32m    325\u001b[0m \u001b[39mif\u001b[39;00m \u001b[39mlen\u001b[39m(args) \u001b[39m>\u001b[39m num_allow_args:\n\u001b[1;32m    326\u001b[0m     warnings\u001b[39m.\u001b[39mwarn(\n\u001b[1;32m    327\u001b[0m         msg\u001b[39m.\u001b[39mformat(arguments\u001b[39m=\u001b[39m_format_argument_list(allow_args)),\n\u001b[1;32m    328\u001b[0m         \u001b[39mFutureWarning\u001b[39;00m,\n\u001b[1;32m    329\u001b[0m         stacklevel\u001b[39m=\u001b[39mfind_stack_level(),\n\u001b[1;32m    330\u001b[0m     )\n\u001b[0;32m--> 331\u001b[0m \u001b[39mreturn\u001b[39;00m func(\u001b[39m*\u001b[39;49margs, \u001b[39m*\u001b[39;49m\u001b[39m*\u001b[39;49mkwargs)\n",
      "File \u001b[0;32m/usr/lib64/python3.11/site-packages/pandas/io/parsers/readers.py:950\u001b[0m, in \u001b[0;36mread_csv\u001b[0;34m(filepath_or_buffer, sep, delimiter, header, names, index_col, usecols, squeeze, prefix, mangle_dupe_cols, dtype, engine, converters, true_values, false_values, skipinitialspace, skiprows, skipfooter, nrows, na_values, keep_default_na, na_filter, verbose, skip_blank_lines, parse_dates, infer_datetime_format, keep_date_col, date_parser, dayfirst, cache_dates, iterator, chunksize, compression, thousands, decimal, lineterminator, quotechar, quoting, doublequote, escapechar, comment, encoding, encoding_errors, dialect, error_bad_lines, warn_bad_lines, on_bad_lines, delim_whitespace, low_memory, memory_map, float_precision, storage_options)\u001b[0m\n\u001b[1;32m    935\u001b[0m kwds_defaults \u001b[39m=\u001b[39m _refine_defaults_read(\n\u001b[1;32m    936\u001b[0m     dialect,\n\u001b[1;32m    937\u001b[0m     delimiter,\n\u001b[0;32m   (...)\u001b[0m\n\u001b[1;32m    946\u001b[0m     defaults\u001b[39m=\u001b[39m{\u001b[39m\"\u001b[39m\u001b[39mdelimiter\u001b[39m\u001b[39m\"\u001b[39m: \u001b[39m\"\u001b[39m\u001b[39m,\u001b[39m\u001b[39m\"\u001b[39m},\n\u001b[1;32m    947\u001b[0m )\n\u001b[1;32m    948\u001b[0m kwds\u001b[39m.\u001b[39mupdate(kwds_defaults)\n\u001b[0;32m--> 950\u001b[0m \u001b[39mreturn\u001b[39;00m _read(filepath_or_buffer, kwds)\n",
      "File \u001b[0;32m/usr/lib64/python3.11/site-packages/pandas/io/parsers/readers.py:605\u001b[0m, in \u001b[0;36m_read\u001b[0;34m(filepath_or_buffer, kwds)\u001b[0m\n\u001b[1;32m    602\u001b[0m _validate_names(kwds\u001b[39m.\u001b[39mget(\u001b[39m\"\u001b[39m\u001b[39mnames\u001b[39m\u001b[39m\"\u001b[39m, \u001b[39mNone\u001b[39;00m))\n\u001b[1;32m    604\u001b[0m \u001b[39m# Create the parser.\u001b[39;00m\n\u001b[0;32m--> 605\u001b[0m parser \u001b[39m=\u001b[39m TextFileReader(filepath_or_buffer, \u001b[39m*\u001b[39;49m\u001b[39m*\u001b[39;49mkwds)\n\u001b[1;32m    607\u001b[0m \u001b[39mif\u001b[39;00m chunksize \u001b[39mor\u001b[39;00m iterator:\n\u001b[1;32m    608\u001b[0m     \u001b[39mreturn\u001b[39;00m parser\n",
      "File \u001b[0;32m/usr/lib64/python3.11/site-packages/pandas/io/parsers/readers.py:1442\u001b[0m, in \u001b[0;36mTextFileReader.__init__\u001b[0;34m(self, f, engine, **kwds)\u001b[0m\n\u001b[1;32m   1439\u001b[0m     \u001b[39mself\u001b[39m\u001b[39m.\u001b[39moptions[\u001b[39m\"\u001b[39m\u001b[39mhas_index_names\u001b[39m\u001b[39m\"\u001b[39m] \u001b[39m=\u001b[39m kwds[\u001b[39m\"\u001b[39m\u001b[39mhas_index_names\u001b[39m\u001b[39m\"\u001b[39m]\n\u001b[1;32m   1441\u001b[0m \u001b[39mself\u001b[39m\u001b[39m.\u001b[39mhandles: IOHandles \u001b[39m|\u001b[39m \u001b[39mNone\u001b[39;00m \u001b[39m=\u001b[39m \u001b[39mNone\u001b[39;00m\n\u001b[0;32m-> 1442\u001b[0m \u001b[39mself\u001b[39m\u001b[39m.\u001b[39m_engine \u001b[39m=\u001b[39m \u001b[39mself\u001b[39;49m\u001b[39m.\u001b[39;49m_make_engine(f, \u001b[39mself\u001b[39;49m\u001b[39m.\u001b[39;49mengine)\n",
      "File \u001b[0;32m/usr/lib64/python3.11/site-packages/pandas/io/parsers/readers.py:1735\u001b[0m, in \u001b[0;36mTextFileReader._make_engine\u001b[0;34m(self, f, engine)\u001b[0m\n\u001b[1;32m   1733\u001b[0m     \u001b[39mif\u001b[39;00m \u001b[39m\"\u001b[39m\u001b[39mb\u001b[39m\u001b[39m\"\u001b[39m \u001b[39mnot\u001b[39;00m \u001b[39min\u001b[39;00m mode:\n\u001b[1;32m   1734\u001b[0m         mode \u001b[39m+\u001b[39m\u001b[39m=\u001b[39m \u001b[39m\"\u001b[39m\u001b[39mb\u001b[39m\u001b[39m\"\u001b[39m\n\u001b[0;32m-> 1735\u001b[0m \u001b[39mself\u001b[39m\u001b[39m.\u001b[39mhandles \u001b[39m=\u001b[39m get_handle(\n\u001b[1;32m   1736\u001b[0m     f,\n\u001b[1;32m   1737\u001b[0m     mode,\n\u001b[1;32m   1738\u001b[0m     encoding\u001b[39m=\u001b[39;49m\u001b[39mself\u001b[39;49m\u001b[39m.\u001b[39;49moptions\u001b[39m.\u001b[39;49mget(\u001b[39m\"\u001b[39;49m\u001b[39mencoding\u001b[39;49m\u001b[39m\"\u001b[39;49m, \u001b[39mNone\u001b[39;49;00m),\n\u001b[1;32m   1739\u001b[0m     compression\u001b[39m=\u001b[39;49m\u001b[39mself\u001b[39;49m\u001b[39m.\u001b[39;49moptions\u001b[39m.\u001b[39;49mget(\u001b[39m\"\u001b[39;49m\u001b[39mcompression\u001b[39;49m\u001b[39m\"\u001b[39;49m, \u001b[39mNone\u001b[39;49;00m),\n\u001b[1;32m   1740\u001b[0m     memory_map\u001b[39m=\u001b[39;49m\u001b[39mself\u001b[39;49m\u001b[39m.\u001b[39;49moptions\u001b[39m.\u001b[39;49mget(\u001b[39m\"\u001b[39;49m\u001b[39mmemory_map\u001b[39;49m\u001b[39m\"\u001b[39;49m, \u001b[39mFalse\u001b[39;49;00m),\n\u001b[1;32m   1741\u001b[0m     is_text\u001b[39m=\u001b[39;49mis_text,\n\u001b[1;32m   1742\u001b[0m     errors\u001b[39m=\u001b[39;49m\u001b[39mself\u001b[39;49m\u001b[39m.\u001b[39;49moptions\u001b[39m.\u001b[39;49mget(\u001b[39m\"\u001b[39;49m\u001b[39mencoding_errors\u001b[39;49m\u001b[39m\"\u001b[39;49m, \u001b[39m\"\u001b[39;49m\u001b[39mstrict\u001b[39;49m\u001b[39m\"\u001b[39;49m),\n\u001b[1;32m   1743\u001b[0m     storage_options\u001b[39m=\u001b[39;49m\u001b[39mself\u001b[39;49m\u001b[39m.\u001b[39;49moptions\u001b[39m.\u001b[39;49mget(\u001b[39m\"\u001b[39;49m\u001b[39mstorage_options\u001b[39;49m\u001b[39m\"\u001b[39;49m, \u001b[39mNone\u001b[39;49;00m),\n\u001b[1;32m   1744\u001b[0m )\n\u001b[1;32m   1745\u001b[0m \u001b[39massert\u001b[39;00m \u001b[39mself\u001b[39m\u001b[39m.\u001b[39mhandles \u001b[39mis\u001b[39;00m \u001b[39mnot\u001b[39;00m \u001b[39mNone\u001b[39;00m\n\u001b[1;32m   1746\u001b[0m f \u001b[39m=\u001b[39m \u001b[39mself\u001b[39m\u001b[39m.\u001b[39mhandles\u001b[39m.\u001b[39mhandle\n",
      "File \u001b[0;32m/usr/lib64/python3.11/site-packages/pandas/io/common.py:856\u001b[0m, in \u001b[0;36mget_handle\u001b[0;34m(path_or_buf, mode, encoding, compression, memory_map, is_text, errors, storage_options)\u001b[0m\n\u001b[1;32m    851\u001b[0m \u001b[39melif\u001b[39;00m \u001b[39misinstance\u001b[39m(handle, \u001b[39mstr\u001b[39m):\n\u001b[1;32m    852\u001b[0m     \u001b[39m# Check whether the filename is to be opened in binary mode.\u001b[39;00m\n\u001b[1;32m    853\u001b[0m     \u001b[39m# Binary mode does not support 'encoding' and 'newline'.\u001b[39;00m\n\u001b[1;32m    854\u001b[0m     \u001b[39mif\u001b[39;00m ioargs\u001b[39m.\u001b[39mencoding \u001b[39mand\u001b[39;00m \u001b[39m\"\u001b[39m\u001b[39mb\u001b[39m\u001b[39m\"\u001b[39m \u001b[39mnot\u001b[39;00m \u001b[39min\u001b[39;00m ioargs\u001b[39m.\u001b[39mmode:\n\u001b[1;32m    855\u001b[0m         \u001b[39m# Encoding\u001b[39;00m\n\u001b[0;32m--> 856\u001b[0m         handle \u001b[39m=\u001b[39m \u001b[39mopen\u001b[39;49m(\n\u001b[1;32m    857\u001b[0m             handle,\n\u001b[1;32m    858\u001b[0m             ioargs\u001b[39m.\u001b[39;49mmode,\n\u001b[1;32m    859\u001b[0m             encoding\u001b[39m=\u001b[39;49mioargs\u001b[39m.\u001b[39;49mencoding,\n\u001b[1;32m    860\u001b[0m             errors\u001b[39m=\u001b[39;49merrors,\n\u001b[1;32m    861\u001b[0m             newline\u001b[39m=\u001b[39;49m\u001b[39m\"\u001b[39;49m\u001b[39m\"\u001b[39;49m,\n\u001b[1;32m    862\u001b[0m         )\n\u001b[1;32m    863\u001b[0m     \u001b[39melse\u001b[39;00m:\n\u001b[1;32m    864\u001b[0m         \u001b[39m# Binary mode\u001b[39;00m\n\u001b[1;32m    865\u001b[0m         handle \u001b[39m=\u001b[39m \u001b[39mopen\u001b[39m(handle, ioargs\u001b[39m.\u001b[39mmode)\n",
      "\u001b[0;31mFileNotFoundError\u001b[0m: [Errno 2] No such file or directory: 'B_010.CSV'"
     ]
    }
   ],
   "source": [
    "# Read the CSV data file into a Pandas DataFrame object\n",
    "data = pd.read_csv('B_010.CSV', delimiter=';', header=None)\n",
    "df = data.replace(r'^\\s*$', np.nan, regex=True).astype(float) # df contains empty cells, \n",
    "\n",
    "# Print the updated DataFrame\n",
    "print(df)"
   ]
  },
  {
   "cell_type": "code",
   "execution_count": null,
   "metadata": {},
   "outputs": [
    {
     "data": {
      "text/plain": [
       "9.92692"
      ]
     },
     "execution_count": 55,
     "metadata": {},
     "output_type": "execute_result"
    }
   ],
   "source": [
    "n = df.to_numpy()\n",
    "n[1][1]\n",
    "#print(n,\"\\n\", type(n), \"\\n\", n.shape)"
   ]
  },
  {
   "cell_type": "code",
   "execution_count": null,
   "metadata": {},
   "outputs": [
    {
     "ename": "IndexError",
     "evalue": "index 1 is out of bounds for axis 1 with size 1",
     "output_type": "error",
     "traceback": [
      "\u001b[1;31m---------------------------------------------------------------------------\u001b[0m",
      "\u001b[1;31mIndexError\u001b[0m                                Traceback (most recent call last)",
      "Cell \u001b[1;32mIn[56], line 29\u001b[0m\n\u001b[0;32m     27\u001b[0m ntt \u001b[39m=\u001b[39m \u001b[39m1\u001b[39m  \u001b[39m# set the value of ntt\u001b[39;00m\n\u001b[0;32m     28\u001b[0m m \u001b[39m=\u001b[39m df\u001b[39m.\u001b[39mto_numpy()  \u001b[39m# convert DataFrame to numpy array\u001b[39;00m\n\u001b[1;32m---> 29\u001b[0m sig \u001b[39m=\u001b[39m extract_mf3(mt, ntt, m)  \u001b[39m# apply the function to the numpy array\u001b[39;00m\n\u001b[0;32m     30\u001b[0m sig\n",
      "Cell \u001b[1;32mIn[56], line 19\u001b[0m, in \u001b[0;36mextract_mf3\u001b[1;34m(mt, ntt, m)\u001b[0m\n\u001b[0;32m     17\u001b[0m         ig \u001b[39m=\u001b[39m \u001b[39mint\u001b[39m(m[iRow\u001b[39m-\u001b[39m\u001b[39m1\u001b[39m,\u001b[39m5\u001b[39m])\n\u001b[0;32m     18\u001b[0m         a, iRowNew \u001b[39m=\u001b[39m extractNwords(nSig0\u001b[39m*\u001b[39mnLgn\u001b[39m*\u001b[39m\u001b[39m2\u001b[39m, iRow, m) \n\u001b[1;32m---> 19\u001b[0m         sig[:,ig\u001b[39m-\u001b[39;49m\u001b[39m1\u001b[39;49m] \u001b[39m=\u001b[39m a[nSig0\u001b[39m*\u001b[39mnLgn:(nSig0\u001b[39m+\u001b[39m\u001b[39m1\u001b[39m)\u001b[39m*\u001b[39mnLgn]\n\u001b[0;32m     20\u001b[0m         iRow \u001b[39m=\u001b[39m iRowNew \u001b[39m+\u001b[39m \u001b[39m2\u001b[39m\n\u001b[0;32m     21\u001b[0m \u001b[39melse\u001b[39;00m:\n",
      "\u001b[1;31mIndexError\u001b[0m: index 1 is out of bounds for axis 1 with size 1"
     ]
    }
   ],
   "source": [
    "def extract_mf3(mt, ntt, m):\n",
    "    nRow = m.shape[0]  # number of rows\n",
    "    nTemp = 0  # number of temperatures\n",
    "    iRowFound = 0\n",
    "    for iRow in range(nRow):\n",
    "        if m[iRow,7] == 3 and m[iRow,8] == mt and m[iRow,9] == 1:  # find the row with mf=3 and required mt\n",
    "            nTemp += 1  # number of temperatures\n",
    "            if nTemp == ntt:\n",
    "                iRowFound = iRow+1\n",
    "                break\n",
    "    if iRowFound > 0:  # there is mf=3 and required mt for this isotope\n",
    "        nSig0 = int(m[iRowFound-1,3]) # number of sigma-zeros\n",
    "        nLgn = int(m[iRowFound-1,2]) # number of Legendre components\n",
    "        iRow = iRowFound + 1\n",
    "        sig = np.zeros((nSig0, nLgn))\n",
    "        while m[iRow,7] == 3 and m[iRow,8] == mt:\n",
    "            ig = int(m[iRow-1,5])\n",
    "            a, iRowNew = extractNwords(nSig0*nLgn*2, iRow, m) \n",
    "            sig[:,ig-1] = a[nSig0*nLgn:(nSig0+1)*nLgn]\n",
    "            iRow = iRowNew + 2\n",
    "    else:\n",
    "        sig = 0\n",
    "    return sig\n",
    "\n",
    "\n",
    "mt = 102  # set the value of mt\n",
    "ntt = 1  # set the value of ntt\n",
    "m = df.to_numpy()  # convert DataFrame to numpy array\n",
    "sig = extract_mf3(mt, ntt, m)  # apply the function to the numpy array\n",
    "sig"
   ]
  },
  {
   "cell_type": "code",
   "execution_count": null,
   "metadata": {},
   "outputs": [
    {
     "ename": "IndexError",
     "evalue": "index 5201 is out of bounds for axis 0 with size 3",
     "output_type": "error",
     "traceback": [
      "\u001b[1;31m---------------------------------------------------------------------------\u001b[0m",
      "\u001b[1;31mIndexError\u001b[0m                                Traceback (most recent call last)",
      "Cell \u001b[1;32mIn[48], line 5\u001b[0m\n\u001b[0;32m      3\u001b[0m nLgn \u001b[39m=\u001b[39m \u001b[39m1\u001b[39m\n\u001b[0;32m      4\u001b[0m iRow \u001b[39m=\u001b[39m \u001b[39m5202\u001b[39m\n\u001b[1;32m----> 5\u001b[0m a, iRowNew \u001b[39m=\u001b[39m extractNwords(nSig0\u001b[39m*\u001b[39;49mnLgn\u001b[39m*\u001b[39;49m\u001b[39m2\u001b[39;49m, iRow, m)\n\u001b[0;32m      6\u001b[0m \u001b[39mprint\u001b[39m(\u001b[39mlen\u001b[39m(a))\n\u001b[0;32m      7\u001b[0m \u001b[39mfor\u001b[39;00m i \u001b[39min\u001b[39;00m \u001b[39mrange\u001b[39m(\u001b[39m1\u001b[39m, nSig0):\n",
      "Cell \u001b[1;32mIn[47], line 7\u001b[0m, in \u001b[0;36mextractNwords\u001b[1;34m(n, iRow, m)\u001b[0m\n\u001b[0;32m      5\u001b[0m \u001b[39mfor\u001b[39;00m ii \u001b[39min\u001b[39;00m \u001b[39mrange\u001b[39m(\u001b[39mint\u001b[39m(n\u001b[39m/\u001b[39m\u001b[39m6\u001b[39m)):  \u001b[39m# read lines with 6 words each\u001b[39;00m\n\u001b[0;32m      6\u001b[0m     \u001b[39mfor\u001b[39;00m jj \u001b[39min\u001b[39;00m \u001b[39mrange\u001b[39m(\u001b[39m6\u001b[39m):\n\u001b[1;32m----> 7\u001b[0m         a\u001b[39m.\u001b[39mappend(m[iRowNew\u001b[39m-\u001b[39;49m\u001b[39m1\u001b[39;49m][jj])\n\u001b[0;32m      8\u001b[0m         k \u001b[39m+\u001b[39m\u001b[39m=\u001b[39m \u001b[39m1\u001b[39m\n\u001b[0;32m      9\u001b[0m     iRowNew \u001b[39m+\u001b[39m\u001b[39m=\u001b[39m \u001b[39m1\u001b[39m\n",
      "\u001b[1;31mIndexError\u001b[0m: index 5201 is out of bounds for axis 0 with size 3"
     ]
    }
   ],
   "source": [
    "ig = 421\n",
    "nSig0 = 6\n",
    "nLgn = 1\n",
    "iRow = 5202\n",
    "a, iRowNew = extractNwords(nSig0*nLgn*2, iRow, m)\n",
    "print(len(a))\n",
    "for i in range(1, nSig0):\n",
    "    sig[0:nSig0,ig-1] = a[nSig0*nLgn+i]\n",
    "    print(sig)"
   ]
  },
  {
   "cell_type": "code",
   "execution_count": null,
   "metadata": {},
   "outputs": [],
   "source": [
    "iRow = 4584\n",
    "int(m.iloc[iRow,6])"
   ]
  }
 ],
 "metadata": {
  "kernelspec": {
   "display_name": "Python 3",
   "language": "python",
   "name": "python3"
  },
  "language_info": {
   "codemirror_mode": {
    "name": "ipython",
    "version": 3
   },
   "file_extension": ".py",
   "mimetype": "text/x-python",
   "name": "python",
   "nbconvert_exporter": "python",
   "pygments_lexer": "ipython3",
   "version": "3.11.2"
  },
  "orig_nbformat": 4
 },
 "nbformat": 4,
 "nbformat_minor": 2
}
