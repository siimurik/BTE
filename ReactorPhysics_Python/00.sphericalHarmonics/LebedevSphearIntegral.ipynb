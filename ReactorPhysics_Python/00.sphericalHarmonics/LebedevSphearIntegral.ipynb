{
 "cells": [
  {
   "cell_type": "markdown",
   "metadata": {},
   "source": [
    "# Analysis of the **getLebedevSphear()** function for MATLAB\n",
    "---\n",
    "A description from the [documenation](https://www.mathworks.com/matlabcentral/fileexchange/27097-getlebedevsphere):\n",
    "\n",
    "for Lebedev quadratures on the surface of the unit sphere at double precision.\n",
    "\n",
    "**********Relative error is generally expected to be ~2.0E-14 [1]********\n",
    "\n",
    "Lebedev quadratures are superbly accurate and efficient quadrature rules for approximating integrals of the form $v = \\iint_{4\\pi} f(\\Omega) \\  d\\Omega$, where $\\Omega$ is the solid angle on the surface of the unit sphere. Lebedev quadratures integrate all spherical harmonics up to $l = order$, where $degree \\approx order(order+1)/3$. These grids may be easily combined with radial quadratures to provide robust cubature formulae. For example, see 'A. Becke, 1988c, J. Chem. Phys., 88(4), pp. 2547' (The first paper on tractable molecular Density Functional Theory methods, of which Lebedev grids and numerical cubature are an intrinsic part).\n",
    "\n",
    "@param degree - positive integer specifying number of points in the requested quadrature. Allowed values are (degree -> order):\n",
    "degree: { 6, 14, 26, 38, 50, 74, 86, 110, 146, 170, 194, 230, 266, 302, 350, 434, 590, 770, 974, 1202, 1454, 1730, 2030, 2354, 2702, 3074, 3470, 3890, 4334, 4802, 5294, 5810 };\n",
    "order: {3,5,7,9,11,13,15,17,19,21,23,25,27,29,31,35,41,47,53,59,65,71,77, 83,89,95,101,107,113,119,125,131};\n",
    "\n",
    "There is an example where \n",
    "$$\\int_S x^2+y^2-z^2 \\, d\\Omega = 4.188790204786399$$"
   ]
  },
  {
   "cell_type": "markdown",
   "metadata": {},
   "source": [
    "---\n",
    "#### This is the part where we come in\n",
    "---\n",
    "First of all, it's kind of a weird way to format it. It should rather be\n",
    "\n",
    "$$\\int_S x^2+y^2-z^2 \\, dx \\, dy \\, dz = 4.188790204786399$$\n",
    "\n",
    "But how is it calculated?\n",
    "\n",
    "## Parametric representation to solve the surface integral\n",
    "\n",
    "$$\n",
    "\\begin{aligned}\n",
    "x &= r \\, sin(\\phi) cos(\\theta)  \\\\\n",
    "y &= r \\, sin(\\phi) sin(\\theta)  \\\\\n",
    "z &= r \\, cos(\\phi)\n",
    "\\end{aligned}\n",
    "$$\n",
    "\n",
    "where\n",
    "\n",
    "$$0 < \\phi < \\pi, \\; 0 < \\theta < 2\\pi.$$\n",
    "\n",
    "## Volume element\n",
    "\n",
    "### Method 1: Determinant of a Jacobian\n",
    "$$J = \n",
    "\\begin{vmatrix} \n",
    "    \\frac{\\partial x}{\\partial r} & \\frac{\\partial x}{\\partial \\phi} & \\frac{\\partial x}{\\partial \\theta} \\\\\n",
    "    \\frac{\\partial y}{\\partial r} & \\frac{\\partial y}{\\partial \\phi} & \\frac{\\partial y}{\\partial \\theta} \\\\\n",
    "    \\frac{\\partial z}{\\partial r} & \\frac{\\partial z}{\\partial \\phi} & \\frac{\\partial z}{\\partial \\theta}\n",
    "\\end{vmatrix} \n",
    "=\n",
    "\\begin{vmatrix} \n",
    "    \\sin(\\theta)\\cos(\\phi)   & -r \\, \\sin(\\phi)   \\sin(\\theta) & r \\, \\cos(\\phi) \\cos(\\theta) \\\\\n",
    "    \\sin(\\phi)  \\sin(\\theta) &  r \\, \\sin(\\theta) \\cos(\\phi)   & r \\, \\sin(\\phi) \\cos(\\theta) \\\\\n",
    "    \\cos(\\theta)             &  0                              &-r \\, \\sin(\\theta)\n",
    "\\end{vmatrix} = \n",
    "r^2 \\, \\sin(\\phi)\n",
    "$$\n",
    "\n",
    "$$\\int_{S}  f(\\phi, \\theta) \\mathrm{J} \\, d\\phi \\, d\\theta, \\quad 0 < \\phi < \\pi; \\; 0 < \\theta < 2\\pi$$\n",
    "\n",
    "---\n",
    "\n",
    "### Method 2: Cross product of the Tangent Vectors\n",
    "\n",
    "$$\n",
    "T_{\\phi} \\times T_{\\theta} = \n",
    "\\begin{bmatrix} \n",
    "    \\hat{i}                      &  \\hat{j}                          & \\hat{k} \\\\\n",
    "    \\frac{\\partial x}{\\partial \\phi} & \\frac{\\partial y}{\\partial \\phi} & \\frac{\\partial z}{\\partial \\phi} \\\\\n",
    "    \\frac{\\partial x}{\\partial \\theta} & \\frac{\\partial y}{\\partial \\theta} & \\frac{\\partial z}{\\partial \\theta}\n",
    "\\end{bmatrix}\n",
    "$$\n",
    "\n",
    "$$|T_{\\phi} \\times T_{\\theta}| = r^2 \\, sin(\\phi)$$\n",
    "\n",
    "\n",
    "Therefore the final inetgral in spherical coornates can be caluclated by\n",
    "\n",
    "$$\\int_{S}  f(\\phi, \\theta) |T_{\\phi} \\times T_{\\theta}| \\, d\\phi \\, d\\theta, \\quad 0 < \\phi < \\pi; \\; 0 < \\theta < 2\\pi$$\n",
    "\n",
    "---\n",
    "\n",
    "## Putting it all together\n",
    "\n",
    "We are dealing with a unit sphear therefore r = 1.\n",
    "\n",
    "$$\\int_{0}^{2 \\pi} \\int_{0}^{\\pi} \\bigg[ \\left( (r \\, \\sin(\\phi) \\cos(\\theta))^2 + (r \\, \\sin(\\phi) \\sin(\\theta))^2 - (r \\, \\cos(\\phi))^2 \\right)  \\cdot r^2 \\, \\sin (\\phi) \\bigg] \\; d\\phi d\\theta = 4.188790204786399$$\n",
    "\n",
    "---\n",
    "Three different methods of this are shown below. They are\n",
    "1. SymPy method\n",
    "2. SciPy method\n",
    "3. Lebedev quadratures method\n",
    "---"
   ]
  },
  {
   "cell_type": "code",
   "execution_count": 3,
   "metadata": {},
   "outputs": [],
   "source": [
    "#******************************************************************\n",
    "# This code is released under the GNU General Public License (GPL).\n",
    "#******************************************************************"
   ]
  },
  {
   "cell_type": "code",
   "execution_count": 4,
   "metadata": {},
   "outputs": [],
   "source": [
    "import h5py\n",
    "import time as t\n",
    "import numpy as np\n",
    "import numba as nb\n",
    "import scipy as sp\n",
    "import sympy as sy\n",
    "import lebedev as l"
   ]
  },
  {
   "cell_type": "markdown",
   "metadata": {},
   "source": [
    "## SymPy method"
   ]
  },
  {
   "cell_type": "code",
   "execution_count": 5,
   "metadata": {},
   "outputs": [
    {
     "data": {
      "text/latex": [
       "$\\displaystyle \\phi$"
      ],
      "text/plain": [
       "phi"
      ]
     },
     "execution_count": 5,
     "metadata": {},
     "output_type": "execute_result"
    }
   ],
   "source": [
    "r, phi, theta = sy.symbols(\"r, phi, theta\")\n",
    "phi"
   ]
  },
  {
   "cell_type": "code",
   "execution_count": 6,
   "metadata": {},
   "outputs": [
    {
     "data": {
      "text/latex": [
       "$\\displaystyle \\left[\\begin{matrix}\\sin{\\left(\\phi \\right)} \\cos{\\left(\\theta \\right)} & r \\cos{\\left(\\phi \\right)} \\cos{\\left(\\theta \\right)} & - r \\sin{\\left(\\phi \\right)} \\sin{\\left(\\theta \\right)}\\\\\\sin{\\left(\\phi \\right)} \\sin{\\left(\\theta \\right)} & r \\sin{\\left(\\theta \\right)} \\cos{\\left(\\phi \\right)} & r \\sin{\\left(\\phi \\right)} \\cos{\\left(\\theta \\right)}\\\\\\cos{\\left(\\phi \\right)} & - r \\sin{\\left(\\phi \\right)} & 0\\end{matrix}\\right]$"
      ],
      "text/plain": [
       "Matrix([\n",
       "[sin(phi)*cos(theta), r*cos(phi)*cos(theta), -r*sin(phi)*sin(theta)],\n",
       "[sin(phi)*sin(theta), r*sin(theta)*cos(phi),  r*sin(phi)*cos(theta)],\n",
       "[           cos(phi),           -r*sin(phi),                      0]])"
      ]
     },
     "execution_count": 6,
     "metadata": {},
     "output_type": "execute_result"
    }
   ],
   "source": [
    "# Cartesian to Spherical coord.\n",
    "x = r * sy.sin(phi) * sy.cos(theta)\n",
    "y = r * sy.sin(phi) * sy.sin(theta)\n",
    "z = r * sy.cos(phi)\n",
    "\n",
    "# Find the jacobian matrix\n",
    "f = sy.Matrix([x, y, z])\n",
    "v = sy.Matrix([r, phi, theta])\n",
    "J = f.jacobian(v)\n",
    "J"
   ]
  },
  {
   "cell_type": "code",
   "execution_count": 7,
   "metadata": {},
   "outputs": [
    {
     "data": {
      "text/latex": [
       "$\\displaystyle r^{2} \\sin{\\left(\\phi \\right)}$"
      ],
      "text/plain": [
       "r**2*sin(phi)"
      ]
     },
     "execution_count": 7,
     "metadata": {},
     "output_type": "execute_result"
    }
   ],
   "source": [
    "det_J = sy.simplify(sy.det(J))\n",
    "det_J"
   ]
  },
  {
   "cell_type": "code",
   "execution_count": 8,
   "metadata": {},
   "outputs": [
    {
     "data": {
      "text/latex": [
       "$\\displaystyle \\left[\\begin{matrix}r^{2} \\sin^{2}{\\left(\\phi \\right)} \\cos{\\left(\\theta \\right)}\\\\r^{2} \\sin^{2}{\\left(\\phi \\right)} \\sin{\\left(\\theta \\right)}\\\\r^{2} \\sin{\\left(\\phi \\right)} \\sin^{2}{\\left(\\theta \\right)} \\cos{\\left(\\phi \\right)} + r^{2} \\sin{\\left(\\phi \\right)} \\cos{\\left(\\phi \\right)} \\cos^{2}{\\left(\\theta \\right)}\\end{matrix}\\right]$"
      ],
      "text/plain": [
       "Matrix([\n",
       "[                                                r**2*sin(phi)**2*cos(theta)],\n",
       "[                                                r**2*sin(phi)**2*sin(theta)],\n",
       "[r**2*sin(phi)*sin(theta)**2*cos(phi) + r**2*sin(phi)*cos(phi)*cos(theta)**2]])"
      ]
     },
     "execution_count": 8,
     "metadata": {},
     "output_type": "execute_result"
    }
   ],
   "source": [
    "T_phi   = sy.Matrix([x.diff(phi), y.diff(phi), z.diff(phi)])\n",
    "T_theta = sy.Matrix([x.diff(theta), y.diff(theta), z.diff(theta)])\n",
    "Tp_x_Tt = T_phi.cross(T_theta)\n",
    "Tp_x_Tt"
   ]
  },
  {
   "cell_type": "code",
   "execution_count": 9,
   "metadata": {},
   "outputs": [
    {
     "data": {
      "text/latex": [
       "$\\displaystyle \\sqrt{r^{4} \\sin^{2}{\\left(\\phi \\right)}}$"
      ],
      "text/plain": [
       "sqrt(r**4*sin(phi)**2)"
      ]
     },
     "execution_count": 9,
     "metadata": {},
     "output_type": "execute_result"
    }
   ],
   "source": [
    "sy.simplify(sy.sqrt(Tp_x_Tt[0]**2 + Tp_x_Tt[1]**2 + Tp_x_Tt[2]**2))"
   ]
  },
  {
   "cell_type": "code",
   "execution_count": 10,
   "metadata": {},
   "outputs": [
    {
     "data": {
      "text/latex": [
       "$\\displaystyle \\frac{4 \\pi}{3}$"
      ],
      "text/plain": [
       "4*pi/3"
      ]
     },
     "execution_count": 10,
     "metadata": {},
     "output_type": "execute_result"
    }
   ],
   "source": [
    "r = 1\n",
    "func = ((r*sy.sin(phi)*sy.cos(theta))**2 + (r*sy.sin(phi)*sy.sin(theta))**2 - (r*sy.cos(phi))**2 )* r**2*sy.sin(phi)\n",
    "sy.integrate(func, (phi, 0, sy.pi), (theta, 0, 2*sy.pi))"
   ]
  },
  {
   "cell_type": "code",
   "execution_count": 11,
   "metadata": {},
   "outputs": [
    {
     "data": {
      "text/plain": [
       "4.1887902047863905"
      ]
     },
     "execution_count": 11,
     "metadata": {},
     "output_type": "execute_result"
    }
   ],
   "source": [
    "# Analytical solution\n",
    "4*np.pi/3"
   ]
  },
  {
   "cell_type": "markdown",
   "metadata": {},
   "source": [
    "## SciPy method"
   ]
  },
  {
   "cell_type": "code",
   "execution_count": 12,
   "metadata": {},
   "outputs": [
    {
     "name": "stdout",
     "output_type": "stream",
     "text": [
      "Numerical result: 4.188790204786391\n",
      "Error: 2.4797939807798317e-13\n"
     ]
    }
   ],
   "source": [
    "# Define the integrand\n",
    "def integrand(phi, theta):\n",
    "    return ((np.sin(phi)*np.cos(theta))**2 + (np.sin(phi)*np.sin(theta))**2 - (np.cos(phi))**2 )* np.sin(phi)\n",
    "\n",
    "# Define the limits of integration\n",
    "phi_limits   = [0, 2*np.pi]\n",
    "theta_limits = [0, np.pi]\n",
    "\n",
    "# Perform the double integration\n",
    "result, error = sp.integrate.nquad(integrand, [theta_limits, phi_limits])\n",
    "\n",
    "print(\"Numerical result:\", result)\n",
    "print(\"Error:\", error)"
   ]
  },
  {
   "cell_type": "markdown",
   "metadata": {},
   "source": [
    "## Lebedev quadratures method"
   ]
  },
  {
   "cell_type": "code",
   "execution_count": 13,
   "metadata": {},
   "outputs": [
    {
     "data": {
      "text/plain": [
       "4.188790204786399"
      ]
     },
     "execution_count": 13,
     "metadata": {},
     "output_type": "execute_result"
    }
   ],
   "source": [
    "# Using a custom module, we get the fastest approach\n",
    "def f(x, y, z):\n",
    "    return x**2 + y**2 - z**2\n",
    "leb = l.getLebedevSphere(590)\n",
    "v = f(leb['x'], leb['y'], leb['z'])\n",
    "int = sum(v * leb['w'])\n",
    "int"
   ]
  }
 ],
 "metadata": {
  "kernelspec": {
   "display_name": "python3.10",
   "language": "python",
   "name": "python3"
  },
  "language_info": {
   "codemirror_mode": {
    "name": "ipython",
    "version": 3
   },
   "file_extension": ".py",
   "mimetype": "text/x-python",
   "name": "python",
   "nbconvert_exporter": "python",
   "pygments_lexer": "ipython3",
   "version": "3.10.11"
  }
 },
 "nbformat": 4,
 "nbformat_minor": 2
}
